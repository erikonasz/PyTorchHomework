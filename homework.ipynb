{
 "cells": [
  {
   "attachments": {},
   "cell_type": "markdown",
   "metadata": {},
   "source": [
    "Part1"
   ]
  },
  {
   "attachments": {},
   "cell_type": "markdown",
   "metadata": {},
   "source": [
    "Logistic Regression class that subclasses nn.Module and implements its methods."
   ]
  },
  {
   "cell_type": "code",
   "execution_count": 4,
   "metadata": {},
   "outputs": [],
   "source": [
    "import torch\n",
    "from torch import nn\n",
    "import numpy as np\n",
    "import torch.optim as optim\n",
    "from torch.utils.data import TensorDataset, DataLoader"
   ]
  },
  {
   "cell_type": "code",
   "execution_count": 5,
   "metadata": {},
   "outputs": [],
   "source": [
    "rng = np.random.default_rng(123)\n",
    "passes_sleep = rng.normal(loc=8, scale=1, size=72)\n",
    "passes_study = rng.normal(loc=12, scale=3, size=72)\n",
    "fails_sleep = rng.normal(loc=6, scale=1.5, size=28)\n",
    "fails_study = rng.normal(loc=6, scale=2, size=28)"
   ]
  },
  {
   "cell_type": "code",
   "execution_count": 6,
   "metadata": {},
   "outputs": [
    {
     "name": "stdout",
     "output_type": "stream",
     "text": [
      "Epoch [100/1000], Loss: 0.3992\n",
      "Epoch [200/1000], Loss: 0.1221\n",
      "Epoch [300/1000], Loss: 0.2905\n",
      "Epoch [400/1000], Loss: 0.3387\n",
      "Epoch [500/1000], Loss: 0.3714\n",
      "Epoch [600/1000], Loss: 0.6597\n",
      "Epoch [700/1000], Loss: 0.0863\n",
      "Epoch [800/1000], Loss: 0.0736\n",
      "Epoch [900/1000], Loss: 0.2720\n",
      "Epoch [1000/1000], Loss: 0.1297\n"
     ]
    }
   ],
   "source": [
    "torch.manual_seed(0)\n",
    "\n",
    "class LogisticRegression(nn.Module):\n",
    "    def __init__(self, input_dim):\n",
    "        super(LogisticRegression, self).__init__()\n",
    "        self.linear = nn.Linear(input_dim, 1)\n",
    "\n",
    "    def forward(self, x):\n",
    "        y_pred = torch.sigmoid(self.linear(x))\n",
    "        return y_pred\n",
    "\n",
    "\n",
    "X_pass = np.column_stack((passes_sleep, passes_study))\n",
    "X_fail = np.column_stack((fails_sleep, fails_study))\n",
    "X = np.vstack((X_pass, X_fail))\n",
    "Y = np.hstack((np.ones(72), np.zeros(28)))\n",
    "\n",
    "\n",
    "X_tensor = torch.tensor(X, dtype=torch.float32)\n",
    "Y_tensor = torch.tensor(Y, dtype=torch.float32).unsqueeze(1)\n",
    "\n",
    "\n",
    "dataset = TensorDataset(X_tensor, Y_tensor)\n",
    "dataloader = DataLoader(dataset, batch_size=10, shuffle=True)\n",
    "\n",
    "input_dim = 2\n",
    "model = LogisticRegression(input_dim)\n",
    "criterion = nn.BCELoss()\n",
    "optimizer = optim.SGD(model.parameters(), lr=0.01)\n",
    "\n",
    "#Training model\n",
    "num_epochs = 1000\n",
    "for epoch in range(num_epochs):\n",
    "    for inputs, targets in dataloader:\n",
    "        outputs = model(inputs)\n",
    "        loss = criterion(outputs, targets)\n",
    "        optimizer.zero_grad()\n",
    "        loss.backward()\n",
    "        optimizer.step()\n",
    "\n",
    "    #Print loss for every 100 epochs\n",
    "    if (epoch+1) % 100 == 0:\n",
    "        print(f'Epoch [{epoch+1}/{num_epochs}], Loss: {loss.item():.4f}')"
   ]
  },
  {
   "attachments": {},
   "cell_type": "markdown",
   "metadata": {},
   "source": [
    "-------------------------------------------------------------------------------------------------------------------------------------------------------------------------------------------"
   ]
  },
  {
   "attachments": {},
   "cell_type": "markdown",
   "metadata": {},
   "source": [
    "Part2"
   ]
  },
  {
   "attachments": {},
   "cell_type": "markdown",
   "metadata": {},
   "source": [
    "1. Using fitted model to make predictions"
   ]
  },
  {
   "cell_type": "code",
   "execution_count": 8,
   "metadata": {},
   "outputs": [
    {
     "name": "stdout",
     "output_type": "stream",
     "text": [
      "Test probabilities: [0.9995295  0.97630274 0.964094   0.98266923 0.9825227  0.9500998\n",
      " 0.890975   0.9695311  0.63065666 0.34251788 0.19031224 0.45537448\n",
      " 0.10827243 0.28330436 0.6213765 ]\n",
      "Binary predictions (Pass: 1, Fail: 0): [1 1 1 1 1 1 1 1 1 0 0 0 0 0 1]\n"
     ]
    }
   ],
   "source": [
    "test_sleep = np.array([\n",
    "    7.06, 7.19, 7.59, 8.84, 9.66, 9.72, 8.81,\n",
    "    8.44, 5.66, 9.13, 8.04, 5.31, 7.07, 8.33, 7.83\n",
    "])\n",
    "test_study = np.array([\n",
    "    19.89, 13.36, 12.7, 14.1, 14.19, 12.4, 10.88, \n",
    "    13.09, 7.88, 6.35, 4.89, 6.65, 3.67, 5.79, 8.09\n",
    "])\n",
    "\n",
    "# Convert test data to tensor\n",
    "test_data = np.column_stack((test_sleep, test_study))\n",
    "test_tensor = torch.tensor(test_data, dtype=torch.float32)\n",
    "\n",
    "# Predictions\n",
    "with torch.no_grad():\n",
    "    test_predictions = model(test_tensor)\n",
    "\n",
    "#Predictions - Probabilities\n",
    "test_probabilities = test_predictions.numpy().flatten()\n",
    "print(\"Test probabilities:\", test_probabilities)\n",
    "\n",
    "#Convert to binary predictions\n",
    "test_binary_predictions = (test_probabilities > 0.5).astype(int)\n",
    "print(\"Binary predictions (Pass: 1, Fail: 0):\", test_binary_predictions)"
   ]
  },
  {
   "attachments": {},
   "cell_type": "markdown",
   "metadata": {},
   "source": [
    "2. Draw your fitted model's decision boundary onto the plot above."
   ]
  },
  {
   "cell_type": "code",
   "execution_count": 9,
   "metadata": {},
   "outputs": [],
   "source": [
    "import matplotlib.pyplot as plt"
   ]
  },
  {
   "cell_type": "code",
   "execution_count": 11,
   "metadata": {},
   "outputs": [
    {
     "data": {
      "image/png": "[encoded data removed]",
      "text/plain": [
       "<Figure size 640x480 with 1 Axes>"
      ]
     },
     "metadata": {},
     "output_type": "display_data"
    }
   ],
   "source": [
    "def plot_decision_boundary(X, Y, model):\n",
    "    plt.scatter(X[Y==1][:, 0], X[Y==1][:, 1], c='blue', label='Pass')\n",
    "    plt.scatter(X[Y==0][:, 0], X[Y==0][:, 1], c='red', label='Fail')\n",
    "\n",
    "    x1_min, x1_max = X[:, 0].min() - 1, X[:, 0].max() + 1\n",
    "    x2_min, x2_max = X[:, 1].min() - 1, X[:, 1].max() + 1\n",
    "    xx1, xx2 = np.meshgrid(np.linspace(x1_min, x1_max, 100), np.linspace(x2_min, x2_max, 100))\n",
    "    X_grid = np.column_stack((xx1.ravel(), xx2.ravel()))\n",
    "    with torch.no_grad():\n",
    "        yy = model(torch.tensor(X_grid, dtype=torch.float32)).numpy().reshape(xx1.shape)\n",
    "    plt.contourf(xx1, xx2, yy, levels=[0, 0.5, 1], alpha=0.4, colors=['red', 'blue'])\n",
    "    plt.contour(xx1, xx2, yy, levels=[0.5], colors='black')\n",
    "\n",
    "    plt.xlabel('Hours of sleep')\n",
    "    plt.ylabel('Hours of study')\n",
    "    plt.legend()\n",
    "    plt.show()\n",
    "\n",
    "plot_decision_boundary(X, Y, model)"
   ]
  }
 ],
 "metadata": {
  "kernelspec": {
   "display_name": "Python 3",
   "language": "python",
   "name": "python3"
  },
  "language_info": {
   "codemirror_mode": {
    "name": "ipython",
    "version": 3
   },
   "file_extension": ".py",
   "mimetype": "text/x-python",
   "name": "python",
   "nbconvert_exporter": "python",
   "pygments_lexer": "ipython3",
   "version": "3.10.5"
  },
  "orig_nbformat": 4
 },
 "nbformat": 4,
 "nbformat_minor": 2
}
